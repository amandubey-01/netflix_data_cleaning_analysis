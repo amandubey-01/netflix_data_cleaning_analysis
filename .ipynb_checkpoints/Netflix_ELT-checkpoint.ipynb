{
 "cells": [
  {
   "cell_type": "code",
   "execution_count": 1,
   "id": "7a569034-9d12-443b-8317-b5c82366c43f",
   "metadata": {},
   "outputs": [],
   "source": [
    "import kaggle\n",
    "import pandas as pd\n",
    "import numpy as np"
   ]
  },
  {
   "cell_type": "code",
   "execution_count": null,
   "id": "1a3b0bd0-3036-4a10-97d0-2ac2ed170afe",
   "metadata": {},
   "outputs": [],
   "source": [
    "# Download dataset using kaggle.\n",
    "!kaggle datasets download shivamb/netflix-shows"
   ]
  },
  {
   "cell_type": "code",
   "execution_count": 19,
   "id": "4f7153c6-3c20-45a1-9eab-72657cba0fb6",
   "metadata": {},
   "outputs": [],
   "source": [
    "#Unzipping the zip file.\n",
    "import zipfile\n",
    "zip_ref = zipfile.ZipFile('netflix-shows.zip')\n",
    "zip_ref.extractall() # Extract file to dir\n",
    "zip_ref.close() # Close zip file."
   ]
  },
  {
   "cell_type": "code",
   "execution_count": 3,
   "id": "14c33f9d-3b40-4e27-8e49-27d9d5dfdf95",
   "metadata": {},
   "outputs": [
    {
     "data": {
      "text/html": [
       "<div>\n",
       "<style scoped>\n",
       "    .dataframe tbody tr th:only-of-type {\n",
       "        vertical-align: middle;\n",
       "    }\n",
       "\n",
       "    .dataframe tbody tr th {\n",
       "        vertical-align: top;\n",
       "    }\n",
       "\n",
       "    .dataframe thead th {\n",
       "        text-align: right;\n",
       "    }\n",
       "</style>\n",
       "<table border=\"1\" class=\"dataframe\">\n",
       "  <thead>\n",
       "    <tr style=\"text-align: right;\">\n",
       "      <th></th>\n",
       "      <th>show_id</th>\n",
       "      <th>type</th>\n",
       "      <th>title</th>\n",
       "      <th>director</th>\n",
       "      <th>cast</th>\n",
       "      <th>country</th>\n",
       "      <th>date_added</th>\n",
       "      <th>release_year</th>\n",
       "      <th>rating</th>\n",
       "      <th>duration</th>\n",
       "      <th>listed_in</th>\n",
       "      <th>description</th>\n",
       "    </tr>\n",
       "  </thead>\n",
       "  <tbody>\n",
       "    <tr>\n",
       "      <th>0</th>\n",
       "      <td>s1</td>\n",
       "      <td>Movie</td>\n",
       "      <td>Dick Johnson Is Dead</td>\n",
       "      <td>Kirsten Johnson</td>\n",
       "      <td>NaN</td>\n",
       "      <td>United States</td>\n",
       "      <td>September 25, 2021</td>\n",
       "      <td>2020</td>\n",
       "      <td>PG-13</td>\n",
       "      <td>90 min</td>\n",
       "      <td>Documentaries</td>\n",
       "      <td>As her father nears the end of his life, filmm...</td>\n",
       "    </tr>\n",
       "    <tr>\n",
       "      <th>1</th>\n",
       "      <td>s2</td>\n",
       "      <td>TV Show</td>\n",
       "      <td>Blood &amp; Water</td>\n",
       "      <td>NaN</td>\n",
       "      <td>Ama Qamata, Khosi Ngema, Gail Mabalane, Thaban...</td>\n",
       "      <td>South Africa</td>\n",
       "      <td>September 24, 2021</td>\n",
       "      <td>2021</td>\n",
       "      <td>TV-MA</td>\n",
       "      <td>2 Seasons</td>\n",
       "      <td>International TV Shows, TV Dramas, TV Mysteries</td>\n",
       "      <td>After crossing paths at a party, a Cape Town t...</td>\n",
       "    </tr>\n",
       "    <tr>\n",
       "      <th>2</th>\n",
       "      <td>s3</td>\n",
       "      <td>TV Show</td>\n",
       "      <td>Ganglands</td>\n",
       "      <td>Julien Leclercq</td>\n",
       "      <td>Sami Bouajila, Tracy Gotoas, Samuel Jouy, Nabi...</td>\n",
       "      <td>NaN</td>\n",
       "      <td>September 24, 2021</td>\n",
       "      <td>2021</td>\n",
       "      <td>TV-MA</td>\n",
       "      <td>1 Season</td>\n",
       "      <td>Crime TV Shows, International TV Shows, TV Act...</td>\n",
       "      <td>To protect his family from a powerful drug lor...</td>\n",
       "    </tr>\n",
       "    <tr>\n",
       "      <th>3</th>\n",
       "      <td>s4</td>\n",
       "      <td>TV Show</td>\n",
       "      <td>Jailbirds New Orleans</td>\n",
       "      <td>NaN</td>\n",
       "      <td>NaN</td>\n",
       "      <td>NaN</td>\n",
       "      <td>September 24, 2021</td>\n",
       "      <td>2021</td>\n",
       "      <td>TV-MA</td>\n",
       "      <td>1 Season</td>\n",
       "      <td>Docuseries, Reality TV</td>\n",
       "      <td>Feuds, flirtations and toilet talk go down amo...</td>\n",
       "    </tr>\n",
       "    <tr>\n",
       "      <th>4</th>\n",
       "      <td>s5</td>\n",
       "      <td>TV Show</td>\n",
       "      <td>Kota Factory</td>\n",
       "      <td>NaN</td>\n",
       "      <td>Mayur More, Jitendra Kumar, Ranjan Raj, Alam K...</td>\n",
       "      <td>India</td>\n",
       "      <td>September 24, 2021</td>\n",
       "      <td>2021</td>\n",
       "      <td>TV-MA</td>\n",
       "      <td>2 Seasons</td>\n",
       "      <td>International TV Shows, Romantic TV Shows, TV ...</td>\n",
       "      <td>In a city of coaching centers known to train I...</td>\n",
       "    </tr>\n",
       "  </tbody>\n",
       "</table>\n",
       "</div>"
      ],
      "text/plain": [
       "  show_id     type                  title         director  \\\n",
       "0      s1    Movie   Dick Johnson Is Dead  Kirsten Johnson   \n",
       "1      s2  TV Show          Blood & Water              NaN   \n",
       "2      s3  TV Show              Ganglands  Julien Leclercq   \n",
       "3      s4  TV Show  Jailbirds New Orleans              NaN   \n",
       "4      s5  TV Show           Kota Factory              NaN   \n",
       "\n",
       "                                                cast        country  \\\n",
       "0                                                NaN  United States   \n",
       "1  Ama Qamata, Khosi Ngema, Gail Mabalane, Thaban...   South Africa   \n",
       "2  Sami Bouajila, Tracy Gotoas, Samuel Jouy, Nabi...            NaN   \n",
       "3                                                NaN            NaN   \n",
       "4  Mayur More, Jitendra Kumar, Ranjan Raj, Alam K...          India   \n",
       "\n",
       "           date_added  release_year rating   duration  \\\n",
       "0  September 25, 2021          2020  PG-13     90 min   \n",
       "1  September 24, 2021          2021  TV-MA  2 Seasons   \n",
       "2  September 24, 2021          2021  TV-MA   1 Season   \n",
       "3  September 24, 2021          2021  TV-MA   1 Season   \n",
       "4  September 24, 2021          2021  TV-MA  2 Seasons   \n",
       "\n",
       "                                           listed_in  \\\n",
       "0                                      Documentaries   \n",
       "1    International TV Shows, TV Dramas, TV Mysteries   \n",
       "2  Crime TV Shows, International TV Shows, TV Act...   \n",
       "3                             Docuseries, Reality TV   \n",
       "4  International TV Shows, Romantic TV Shows, TV ...   \n",
       "\n",
       "                                         description  \n",
       "0  As her father nears the end of his life, filmm...  \n",
       "1  After crossing paths at a party, a Cape Town t...  \n",
       "2  To protect his family from a powerful drug lor...  \n",
       "3  Feuds, flirtations and toilet talk go down amo...  \n",
       "4  In a city of coaching centers known to train I...  "
      ]
     },
     "execution_count": 3,
     "metadata": {},
     "output_type": "execute_result"
    }
   ],
   "source": [
    "# Loading the data set in to pandas dataframe.\n",
    "df = pd.read_csv('netflix_titles.csv')\n",
    "df.head()"
   ]
  },
  {
   "cell_type": "code",
   "execution_count": 127,
   "id": "300ba59e-6c41-4f1f-9533-4e3ed5e7c481",
   "metadata": {},
   "outputs": [],
   "source": [
    "# Import sqlalchemy and connect to sql server.\n",
    "import sqlalchemy as sal\n",
    "engine = sal.create_engine('mssql://DESKTOP-MJCKK5O/master?driver=ODBC+DRIVER+17+FOR+SQL+SERVER')\n",
    "conn = engine.connect()"
   ]
  },
  {
   "cell_type": "code",
   "execution_count": 9,
   "id": "97b7a5f5-0163-4ea1-93e2-4369ac18b762",
   "metadata": {},
   "outputs": [],
   "source": [
    "# Load the dataset to sql server using append option.\n",
    "df.to_sql('netflix_raw', con=conn, index = False, if_exists = 'replace')\n",
    "conn.close()"
   ]
  },
  {
   "cell_type": "code",
   "execution_count": 11,
   "id": "daf5f2f1-7c32-4e70-88b0-196129f01e91",
   "metadata": {},
   "outputs": [
    {
     "data": {
      "text/html": [
       "<div>\n",
       "<style scoped>\n",
       "    .dataframe tbody tr th:only-of-type {\n",
       "        vertical-align: middle;\n",
       "    }\n",
       "\n",
       "    .dataframe tbody tr th {\n",
       "        vertical-align: top;\n",
       "    }\n",
       "\n",
       "    .dataframe thead th {\n",
       "        text-align: right;\n",
       "    }\n",
       "</style>\n",
       "<table border=\"1\" class=\"dataframe\">\n",
       "  <thead>\n",
       "    <tr style=\"text-align: right;\">\n",
       "      <th></th>\n",
       "      <th>show_id</th>\n",
       "      <th>type</th>\n",
       "      <th>title</th>\n",
       "      <th>director</th>\n",
       "      <th>cast</th>\n",
       "      <th>country</th>\n",
       "      <th>date_added</th>\n",
       "      <th>release_year</th>\n",
       "      <th>rating</th>\n",
       "      <th>duration</th>\n",
       "      <th>listed_in</th>\n",
       "      <th>description</th>\n",
       "    </tr>\n",
       "  </thead>\n",
       "  <tbody>\n",
       "    <tr>\n",
       "      <th>5022</th>\n",
       "      <td>s5023</td>\n",
       "      <td>Movie</td>\n",
       "      <td>반드시 잡는다</td>\n",
       "      <td>Hong-seon Kim</td>\n",
       "      <td>Baek Yoon-sik</td>\n",
       "      <td>South Korea</td>\n",
       "      <td>February 28, 2018</td>\n",
       "      <td>2017</td>\n",
       "      <td>TV-MA</td>\n",
       "      <td>110 min</td>\n",
       "      <td>Dramas, International Movies, Thrillers</td>\n",
       "      <td>After people in his town start turning up dead...</td>\n",
       "    </tr>\n",
       "  </tbody>\n",
       "</table>\n",
       "</div>"
      ],
      "text/plain": [
       "     show_id   type    title       director           cast      country  \\\n",
       "5022   s5023  Movie  반드시 잡는다  Hong-seon Kim  Baek Yoon-sik  South Korea   \n",
       "\n",
       "             date_added  release_year rating duration  \\\n",
       "5022  February 28, 2018          2017  TV-MA  110 min   \n",
       "\n",
       "                                    listed_in  \\\n",
       "5022  Dramas, International Movies, Thrillers   \n",
       "\n",
       "                                            description  \n",
       "5022  After people in his town start turning up dead...  "
      ]
     },
     "execution_count": 11,
     "metadata": {},
     "output_type": "execute_result"
    }
   ],
   "source": [
    "df[df.show_id == 's5023']"
   ]
  },
  {
   "cell_type": "markdown",
   "id": "2fd0c9ca-a4d6-4f4d-a427-3a7ca6c24482",
   "metadata": {},
   "source": [
    "Title of certain shows is in different language while the data type of title in sql server is varchar, which can't handle the non english characters. Hence, we have to change the data type to nvarchar that can handle characters from other languages as well."
   ]
  },
  {
   "cell_type": "code",
   "execution_count": 62,
   "id": "137f3c0d-0c57-4318-b1cc-abcaee4ea7e4",
   "metadata": {},
   "outputs": [
    {
     "name": "stdout",
     "output_type": "stream",
     "text": [
      "Maximum length of any value in show_id : 5\n",
      "Maximum length of any value in type : 7\n",
      "Maximum length of any value in title : 104\n",
      "Maximum length of any value in director : 208\n",
      "Maximum length of any value in cast : 771\n",
      "Maximum length of any value in country : 123\n",
      "Maximum length of any value in date_added : 19\n",
      "Maximum length of any value in rating : 8\n",
      "Maximum length of any value in duration : 10\n",
      "Maximum length of any value in listed_in : 79\n",
      "Maximum length of any value in description : 248\n"
     ]
    }
   ],
   "source": [
    "# Getting the maximum lenght of values in any record.\n",
    "for col in df.columns:\n",
    "    if df[col].dtype == 'O':\n",
    "        print(f\"Maximum length of any value in {col} : {max(df[col].dropna().str.len())}\")\n",
    "    else:\n",
    "        continue"
   ]
  },
  {
   "cell_type": "code",
   "execution_count": 129,
   "id": "f0306305-2166-46e4-9780-1e74a073fc09",
   "metadata": {},
   "outputs": [],
   "source": [
    "# Load the dataset to sql server using append option.\n",
    "df.to_sql('netflix_raw', con=conn, index = False, if_exists = 'append')\n",
    "conn.close()"
   ]
  },
  {
   "cell_type": "code",
   "execution_count": null,
   "id": "126626cb-8856-470d-965d-dcf357da37ac",
   "metadata": {},
   "outputs": [],
   "source": []
  }
 ],
 "metadata": {
  "kernelspec": {
   "display_name": "Python [conda env:base] *",
   "language": "python",
   "name": "conda-base-py"
  },
  "language_info": {
   "codemirror_mode": {
    "name": "ipython",
    "version": 3
   },
   "file_extension": ".py",
   "mimetype": "text/x-python",
   "name": "python",
   "nbconvert_exporter": "python",
   "pygments_lexer": "ipython3",
   "version": "3.12.7"
  }
 },
 "nbformat": 4,
 "nbformat_minor": 5
}
